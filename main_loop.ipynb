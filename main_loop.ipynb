{
 "cells": [
  {
   "cell_type": "markdown",
   "metadata": {},
   "source": [
    "# Main Loop\n",
    "\n",
    "## import packages\n",
    "\n",
    "We need some Python packages, which may or may not be installed within your conda environment. Uncomment the following lines to install them. (Don't forget to comment the lines afterwards again.)"
   ]
  },
  {
   "cell_type": "code",
   "execution_count": 1,
   "metadata": {
    "lines_to_next_cell": 0
   },
   "outputs": [],
   "source": [
    "# TBD\n",
    "#!pip install rdflib etc."
   ]
  },
  {
   "cell_type": "markdown",
   "metadata": {},
   "source": [
    "Import packages:"
   ]
  },
  {
   "cell_type": "code",
   "execution_count": 2,
   "metadata": {
    "lines_to_next_cell": 2
   },
   "outputs": [],
   "source": [
    "import time\n",
    "from shutil import copyfile\n",
    "import os\n",
    "import xml.etree.ElementTree as ET\n",
    "from rdflib import Graph\n",
    "import owlrl\n",
    "\n",
    "from gpdscl.src.mm2ttl import mm2turtle # collectOwlEntries, searchForOntology"
   ]
  },
  {
   "cell_type": "markdown",
   "metadata": {},
   "source": [
    "## The main loop\n",
    "\n",
    "We assume that you have done some edits to your mindmap.\n",
    "\n",
    "In order to export the mindmap simply process the steps of this main loop.\n",
    "\n",
    "### Define project name, organize backup\n",
    "\n",
    "In this early version 0.2 we make use of ugly, but simple scriptig techniques, including global variables.\n"
   ]
  },
  {
   "cell_type": "code",
   "execution_count": 3,
   "metadata": {},
   "outputs": [],
   "source": [
    "# project = 'milk' # do not add the file extension here\n",
    "project = 'sandbox'"
   ]
  },
  {
   "cell_type": "markdown",
   "metadata": {},
   "source": [
    "Don't change these settings:"
   ]
  },
  {
   "cell_type": "code",
   "execution_count": 4,
   "metadata": {},
   "outputs": [],
   "source": [
    "verbosity = 2\n",
    "sourceDir = './mindmaps'\n",
    "backupDir = './backups'\n",
    "ontologyDir = './ontologies'"
   ]
  },
  {
   "cell_type": "markdown",
   "metadata": {},
   "source": [
    "Because we will overwrite (!) the input file, we suggest to allocate time stamped backup files automatically."
   ]
  },
  {
   "cell_type": "code",
   "execution_count": 5,
   "metadata": {
    "lines_to_next_cell": 2
   },
   "outputs": [
    {
     "name": "stdout",
     "output_type": "stream",
     "text": [
      "backup done from ./mindmaps/sandbox.mm to ./backups/sandbox/sandbox_2021-01-19T12-35-42.mm\n"
     ]
    }
   ],
   "source": [
    "timestr = time.strftime(\"%Y-%m-%dT%H-%M-%S\")\n",
    "projectSourceFile = f\"{sourceDir}/{project}.mm\"\n",
    "projectBackupDir  = f\"{backupDir}/{project}\"\n",
    "projectBackupFile = f\"{projectBackupDir}/{project}_{timestr}.mm\"\n",
    "\n",
    "if not os.path.exists(projectBackupDir):\n",
    "    os.mkdir(projectBackupDir)\n",
    "copyfile(projectSourceFile, projectBackupFile)\n",
    "print(f\"backup done from {projectSourceFile} to {projectBackupFile}\")"
   ]
  },
  {
   "cell_type": "markdown",
   "metadata": {},
   "source": [
    "### Read and update `.mm`"
   ]
  },
  {
   "cell_type": "code",
   "execution_count": 6,
   "metadata": {},
   "outputs": [
    {
     "name": "stdout",
     "output_type": "stream",
     "text": [
      "collectOwlEntries: \n",
      "# ONTOLOGY, predicate        ID_685648358 2021-01-19 11:34:18\n",
      "\n",
      "@prefix : <http://jbusse.de/ontology/mm2owl#> .\n",
      "collectOwlEntries: \n",
      "# ONTOLOGY, object        ID_1936719561 2021-01-19 11:33:46\n",
      "\n",
      ":Gewässer a owl:Class.\n",
      "collectOwlEntries: \n",
      "# BY, predicate        ID_1449600205 2021-01-14 17:01:21\n",
      "\n",
      ":Trophiestufe a owl:ObjectProperty .\n",
      "collectOwlEntries: \n",
      "# BY, object        ID_1260890827 2021-01-15 12:45:53\n",
      "\n",
      ":ID_1260890827 a owl:Class ;\n",
      "            rdfs:subClassOf :Gewässer .\n",
      "collectOwlEntries: \n",
      "# SOME, predicate        ID_1974595102 2021-01-14 17:01:21\n",
      "\n",
      ":SOME_:Trophiestufe_:oligotroph a owl:Class ;\n",
      "        owl:equivalentClass [ a owl:Restriction ;\n",
      "            owl:onProperty :Trophiestufe ;\n",
      "            owl:someValuesFrom :oligotroph ] .\n",
      "\n",
      "    :Gewässer_AND_:SOME_:Trophiestufe_:oligotroph a owl:Class ;\n",
      "        rdfs:subClassOf :ID_1260890827 ;\n",
      "        owl:equivalentClass [ a owl:Class ;\n",
      "            owl:intersectionOf ( :Gewässer :SOME_:Trophiestufe_:oligotroph ) ] .\n",
      "\n",
      "    # owl 2 punning\n",
      "    :oligotroph a owl:Class ;\n",
      "        rdfs:subClassOf :Trophiestufe .\n",
      "        \n",
      "    :oligotroph rdf:type owl:NamedIndividual ;\n",
      "        a :oligotroph .\n",
      "collectOwlEntries: \n",
      "# BY, object        ID_440590526 2021-01-15 12:45:53\n",
      "\n",
      ":ID_440590526 a owl:Class ;\n",
      "            rdfs:subClassOf :Gewässer .\n",
      "collectOwlEntries: \n",
      "# SOME, predicate        ID_825688094 2021-01-14 17:01:21\n",
      "\n",
      ":SOME_:Trophiestufe_:mesotroph a owl:Class ;\n",
      "        owl:equivalentClass [ a owl:Restriction ;\n",
      "            owl:onProperty :Trophiestufe ;\n",
      "            owl:someValuesFrom :mesotroph ] .\n",
      "\n",
      "    :Gewässer_AND_:SOME_:Trophiestufe_:mesotroph a owl:Class ;\n",
      "        rdfs:subClassOf :ID_440590526 ;\n",
      "        owl:equivalentClass [ a owl:Class ;\n",
      "            owl:intersectionOf ( :Gewässer :SOME_:Trophiestufe_:mesotroph ) ] .\n",
      "\n",
      "    # owl 2 punning\n",
      "    :mesotroph a owl:Class ;\n",
      "        rdfs:subClassOf :Trophiestufe .\n",
      "        \n",
      "    :mesotroph rdf:type owl:NamedIndividual ;\n",
      "        a :mesotroph .\n",
      "collectOwlEntries: \n",
      "# BY, object        ID_340097028 2021-01-15 12:45:53\n",
      "\n",
      ":ID_340097028 a owl:Class ;\n",
      "            rdfs:subClassOf :Gewässer .\n",
      "collectOwlEntries: \n",
      "# SOME, predicate        ID_1417244006 2021-01-14 17:01:21\n",
      "\n",
      ":SOME_:Trophiestufe_:eutroph a owl:Class ;\n",
      "        owl:equivalentClass [ a owl:Restriction ;\n",
      "            owl:onProperty :Trophiestufe ;\n",
      "            owl:someValuesFrom :eutroph ] .\n",
      "\n",
      "    :Gewässer_AND_:SOME_:Trophiestufe_:eutroph a owl:Class ;\n",
      "        rdfs:subClassOf :ID_340097028 ;\n",
      "        owl:equivalentClass [ a owl:Class ;\n",
      "            owl:intersectionOf ( :Gewässer :SOME_:Trophiestufe_:eutroph ) ] .\n",
      "\n",
      "    # owl 2 punning\n",
      "    :eutroph a owl:Class ;\n",
      "        rdfs:subClassOf :Trophiestufe .\n",
      "        \n",
      "    :eutroph rdf:type owl:NamedIndividual ;\n",
      "        a :eutroph .\n",
      "collectOwlEntries: \n",
      "# BY, object        ID_1784703466 2021-01-15 12:45:53\n",
      "\n",
      ":ID_1784703466 a owl:Class ;\n",
      "            rdfs:subClassOf :Gewässer .\n",
      "collectOwlEntries: \n",
      "# SOME, predicate        ID_399418016 2021-01-14 17:01:21\n",
      "\n",
      ":SOME_:Trophiestufe_:hypertroph a owl:Class ;\n",
      "        owl:equivalentClass [ a owl:Restriction ;\n",
      "            owl:onProperty :Trophiestufe ;\n",
      "            owl:someValuesFrom :hypertroph ] .\n",
      "\n",
      "    :Gewässer_AND_:SOME_:Trophiestufe_:hypertroph a owl:Class ;\n",
      "        rdfs:subClassOf :ID_1784703466 ;\n",
      "        owl:equivalentClass [ a owl:Class ;\n",
      "            owl:intersectionOf ( :Gewässer :SOME_:Trophiestufe_:hypertroph ) ] .\n",
      "\n",
      "    # owl 2 punning\n",
      "    :hypertroph a owl:Class ;\n",
      "        rdfs:subClassOf :Trophiestufe .\n",
      "        \n",
      "    :hypertroph rdf:type owl:NamedIndividual ;\n",
      "        a :hypertroph .\n",
      "ontologyString: @prefix owl: <http://www.w3.org/2002/07/owl#> .\n",
      "@prefix rdf: <http://www.w3.org/1999/02/22-rdf-syntax-ns#> .\n",
      "@prefix xml: <http://www.w3.org/XML/1998/namespace> .\n",
      "@prefix xsd: <http://www.w3.org/2001/XMLSchema#> .\n",
      "@prefix rdfs: <http://www.w3.org/2000/01/rdf-schema#> .\n",
      "@prefix skos: <http://www.w3.org/2004/02/skos/core#> .\n",
      "\n",
      "@prefix : <http://jbusse.de/ontologies/gpdscl#> .\n",
      "@base <http://jbusse.de/ontologies/gpdscl> .\n",
      "<http://jbusse.de/ontologies/gpdscl> rdf:type owl:Ontology .\n",
      "\n",
      "\n",
      "# ONTOLOGY, predicate        ID_685648358 2021-01-19 11:34:18\n",
      "\n",
      "@prefix : <http://jbusse.de/ontology/mm2owl#> .\n",
      "\n",
      "# ONTOLOGY, object        ID_1936719561 2021-01-19 11:33:46\n",
      "\n",
      ":Gewässer a owl:Class.\n",
      "\n",
      "# BY, predicate        ID_1449600205 2021-01-14 17:01:21\n",
      "\n",
      ":Trophiestufe a owl:ObjectProperty .\n",
      "\n",
      "# BY, object        ID_1260890827 2021-01-15 12:45:53\n",
      "\n",
      ":ID_1260890827 a owl:Class ;\n",
      "            rdfs:subClassOf :Gewässer .\n",
      "\n",
      "# SOME, predicate        ID_1974595102 2021-01-14 17:01:21\n",
      "\n",
      ":SOME_:Trophiestufe_:oligotroph a owl:Class ;\n",
      "        owl:equivalentClass [ a owl:Restriction ;\n",
      "            owl:onProperty :Trophiestufe ;\n",
      "            owl:someValuesFrom :oligotroph ] .\n",
      "\n",
      "    :Gewässer_AND_:SOME_:Trophiestufe_:oligotroph a owl:Class ;\n",
      "        rdfs:subClassOf :ID_1260890827 ;\n",
      "        owl:equivalentClass [ a owl:Class ;\n",
      "            owl:intersectionOf ( :Gewässer :SOME_:Trophiestufe_:oligotroph ) ] .\n",
      "\n",
      "    # owl 2 punning\n",
      "    :oligotroph a owl:Class ;\n",
      "        rdfs:subClassOf :Trophiestufe .\n",
      "        \n",
      "    :oligotroph rdf:type owl:NamedIndividual ;\n",
      "        a :oligotroph .\n",
      "\n",
      "# BY, object        ID_440590526 2021-01-15 12:45:53\n",
      "\n",
      ":ID_440590526 a owl:Class ;\n",
      "            rdfs:subClassOf :Gewässer .\n",
      "\n",
      "# SOME, predicate        ID_825688094 2021-01-14 17:01:21\n",
      "\n",
      ":SOME_:Trophiestufe_:mesotroph a owl:Class ;\n",
      "        owl:equivalentClass [ a owl:Restriction ;\n",
      "            owl:onProperty :Trophiestufe ;\n",
      "            owl:someValuesFrom :mesotroph ] .\n",
      "\n",
      "    :Gewässer_AND_:SOME_:Trophiestufe_:mesotroph a owl:Class ;\n",
      "        rdfs:subClassOf :ID_440590526 ;\n",
      "        owl:equivalentClass [ a owl:Class ;\n",
      "            owl:intersectionOf ( :Gewässer :SOME_:Trophiestufe_:mesotroph ) ] .\n",
      "\n",
      "    # owl 2 punning\n",
      "    :mesotroph a owl:Class ;\n",
      "        rdfs:subClassOf :Trophiestufe .\n",
      "        \n",
      "    :mesotroph rdf:type owl:NamedIndividual ;\n",
      "        a :mesotroph .\n",
      "\n",
      "# BY, object        ID_340097028 2021-01-15 12:45:53\n",
      "\n",
      ":ID_340097028 a owl:Class ;\n",
      "            rdfs:subClassOf :Gewässer .\n",
      "\n",
      "# SOME, predicate        ID_1417244006 2021-01-14 17:01:21\n",
      "\n",
      ":SOME_:Trophiestufe_:eutroph a owl:Class ;\n",
      "        owl:equivalentClass [ a owl:Restriction ;\n",
      "            owl:onProperty :Trophiestufe ;\n",
      "            owl:someValuesFrom :eutroph ] .\n",
      "\n",
      "    :Gewässer_AND_:SOME_:Trophiestufe_:eutroph a owl:Class ;\n",
      "        rdfs:subClassOf :ID_340097028 ;\n",
      "        owl:equivalentClass [ a owl:Class ;\n",
      "            owl:intersectionOf ( :Gewässer :SOME_:Trophiestufe_:eutroph ) ] .\n",
      "\n",
      "    # owl 2 punning\n",
      "    :eutroph a owl:Class ;\n",
      "        rdfs:subClassOf :Trophiestufe .\n",
      "        \n",
      "    :eutroph rdf:type owl:NamedIndividual ;\n",
      "        a :eutroph .\n",
      "\n",
      "# BY, object        ID_1784703466 2021-01-15 12:45:53\n",
      "\n",
      ":ID_1784703466 a owl:Class ;\n",
      "            rdfs:subClassOf :Gewässer .\n",
      "\n",
      "# SOME, predicate        ID_399418016 2021-01-14 17:01:21\n",
      "\n",
      ":SOME_:Trophiestufe_:hypertroph a owl:Class ;\n",
      "        owl:equivalentClass [ a owl:Restriction ;\n",
      "            owl:onProperty :Trophiestufe ;\n",
      "            owl:someValuesFrom :hypertroph ] .\n",
      "\n",
      "    :Gewässer_AND_:SOME_:Trophiestufe_:hypertroph a owl:Class ;\n",
      "        rdfs:subClassOf :ID_1784703466 ;\n",
      "        owl:equivalentClass [ a owl:Class ;\n",
      "            owl:intersectionOf ( :Gewässer :SOME_:Trophiestufe_:hypertroph ) ] .\n",
      "\n",
      "    # owl 2 punning\n",
      "    :hypertroph a owl:Class ;\n",
      "        rdfs:subClassOf :Trophiestufe .\n",
      "        \n",
      "    :hypertroph rdf:type owl:NamedIndividual ;\n",
      "        a :hypertroph .\n",
      "    \n"
     ]
    }
   ],
   "source": [
    "tree = ET.parse(projectSourceFile)\n",
    "root = tree.getroot()\n",
    "ontologyString = mm2turtle(root, \"http://jbusse.de/ontologies/gpdscl\", verbosity=verbosity)"
   ]
  },
  {
   "cell_type": "markdown",
   "metadata": {},
   "source": [
    "### write files\n",
    "\n",
    "Overwrite (!) the source file:"
   ]
  },
  {
   "cell_type": "code",
   "execution_count": 7,
   "metadata": {},
   "outputs": [],
   "source": [
    "tree.write(projectSourceFile)"
   ]
  },
  {
   "cell_type": "markdown",
   "metadata": {},
   "source": [
    "Export ontology:"
   ]
  },
  {
   "cell_type": "code",
   "execution_count": 8,
   "metadata": {
    "lines_to_next_cell": 0
   },
   "outputs": [],
   "source": [
    "with open(f\"{ontologyDir}/{project}.ttl\", 'w') as out:\n",
    "    out.write(ontologyString)"
   ]
  },
  {
   "cell_type": "markdown",
   "metadata": {},
   "source": [
    "re-read the ttl file we have exported in the preceding step. (We read it two times in order to get two completely distinct graphs)."
   ]
  },
  {
   "cell_type": "code",
   "execution_count": 9,
   "metadata": {},
   "outputs": [
    {
     "data": {
      "text/plain": [
       "<Graph identifier=Nbcbf9a74b3bd49a1b5de777140a1f40b (<class 'rdflib.graph.Graph'>)>"
      ]
     },
     "execution_count": 9,
     "metadata": {},
     "output_type": "execute_result"
    }
   ],
   "source": [
    "g = Graph()\n",
    "g.parse(f\"{ontologyDir}/{project}.ttl\", format='ttl')"
   ]
  },
  {
   "cell_type": "code",
   "execution_count": 10,
   "metadata": {},
   "outputs": [],
   "source": [
    "g2 = Graph()\n",
    "g2.parse(f\"{ontologyDir}/{project}.ttl\", format='ttl')\n",
    "owlrl.DeductiveClosure(owlrl.OWLRL_Semantics, axiomatic_triples = False).expand(g2)"
   ]
  },
  {
   "cell_type": "code",
   "execution_count": 11,
   "metadata": {},
   "outputs": [
    {
     "name": "stdout",
     "output_type": "stream",
     "text": [
      "# triples before/after inferencing deductive closure with owlrl:\n",
      "83 / 399\n"
     ]
    }
   ],
   "source": [
    "print(f\"# triples before/after inferencing deductive closure with owlrl:\\n{len(g)} / {len(g2)}\")"
   ]
  },
  {
   "cell_type": "code",
   "execution_count": 12,
   "metadata": {},
   "outputs": [],
   "source": [
    "g.serialize(destination  = f\"{ontologyDir}/{project}_rdflib.ttl\", format='turtle')\n",
    "g2.serialize(destination = f\"{ontologyDir}/{project}_rdflib_inferred.ttl\", format='turtle')"
   ]
  }
 ],
 "metadata": {
  "jupytext": {
   "formats": "ipynb,md",
   "text_representation": {
    "extension": ".md",
    "format_name": "markdown",
    "format_version": "1.2",
    "jupytext_version": "1.6.0"
   }
  },
  "kernelspec": {
   "display_name": "Python 3",
   "language": "python",
   "name": "python3"
  },
  "language_info": {
   "codemirror_mode": {
    "name": "ipython",
    "version": 3
   },
   "file_extension": ".py",
   "mimetype": "text/x-python",
   "name": "python",
   "nbconvert_exporter": "python",
   "pygments_lexer": "ipython3",
   "version": "3.8.3"
  }
 },
 "nbformat": 4,
 "nbformat_minor": 4
}
