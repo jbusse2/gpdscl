{
 "cells": [
  {
   "cell_type": "markdown",
   "metadata": {},
   "source": [
    "# Main Loop\n",
    "\n",
    "## import packages\n",
    "\n",
    "We need some Python packages, which may or may not be installed within your conda environment. Uncomment the following lines to install them. (Don't forget to comment the lines afterwards again.)"
   ]
  },
  {
   "cell_type": "code",
   "execution_count": 1,
   "metadata": {
    "lines_to_next_cell": 0
   },
   "outputs": [],
   "source": [
    "# TBD\n",
    "#!pip install rdflib etc."
   ]
  },
  {
   "cell_type": "markdown",
   "metadata": {},
   "source": [
    "Import packages:"
   ]
  },
  {
   "cell_type": "code",
   "execution_count": 2,
   "metadata": {
    "lines_to_next_cell": 2
   },
   "outputs": [],
   "source": [
    "import time\n",
    "from shutil import copyfile\n",
    "import os\n",
    "import xml.etree.ElementTree as ET\n",
    "from rdflib import Graph\n",
    "import owlrl\n",
    "\n",
    "from gpdscl.src.mm2ttl import mm2turtle"
   ]
  },
  {
   "cell_type": "markdown",
   "metadata": {},
   "source": [
    "## The main loop\n",
    "\n",
    "We assume that you have done some edits to your mindmap.\n",
    "\n",
    "In order to export the mindmap simply process the steps of this main loop.\n",
    "\n",
    "### Define project name, organize backup\n",
    "\n",
    "In this early version 0.2 we make use of ugly, but simple scriptig techniques, including global variables.\n"
   ]
  },
  {
   "cell_type": "code",
   "execution_count": 3,
   "metadata": {},
   "outputs": [],
   "source": [
    "# do not add the file extension '.mm' to the project name\n",
    "\n",
    "# project = 'milk'\n",
    "project = 'sandbox'\n",
    "# project= 'Gewässer_Challenge_2021-01-19'\n",
    "\n",
    "baseUri = \"http://jbusse.de/ontologies/\"\n",
    "codeTypeList = [] # 'owl'"
   ]
  },
  {
   "cell_type": "markdown",
   "metadata": {},
   "source": [
    "Don't change these settings:"
   ]
  },
  {
   "cell_type": "code",
   "execution_count": 4,
   "metadata": {},
   "outputs": [],
   "source": [
    "verbosity = 2\n",
    "sourceDir = './mindmaps'\n",
    "backupDir = './backups'\n",
    "ontologyDir = './ontologies'"
   ]
  },
  {
   "cell_type": "markdown",
   "metadata": {},
   "source": [
    "Because we will overwrite (!) the input file, we suggest to allocate time stamped backup files automatically."
   ]
  },
  {
   "cell_type": "code",
   "execution_count": 5,
   "metadata": {
    "lines_to_next_cell": 2
   },
   "outputs": [
    {
     "name": "stdout",
     "output_type": "stream",
     "text": [
      "backup done from ./mindmaps/sandbox.mm to ./backups/sandbox/sandbox_2021-02-16T08-57-27.mm\n"
     ]
    }
   ],
   "source": [
    "timestr = time.strftime(\"%Y-%m-%dT%H-%M-%S\")\n",
    "projectSourceFile = f\"{sourceDir}/{project}.mm\"\n",
    "projectBackupDir  = f\"{backupDir}/{project}\"\n",
    "projectBackupFile = f\"{projectBackupDir}/{project}_{timestr}.mm\"\n",
    "projectOutDir     = f\"{ontologyDir}/{project}\"\n",
    "\n",
    "if not os.path.exists(projectBackupDir):\n",
    "    os.mkdir(projectBackupDir)\n",
    "if not os.path.exists(projectOutDir):\n",
    "    os.mkdir(projectOutDir)\n",
    "    \n",
    "copyfile(projectSourceFile, projectBackupFile)\n",
    "print(f\"backup done from {projectSourceFile} to {projectBackupFile}\")"
   ]
  },
  {
   "cell_type": "markdown",
   "metadata": {},
   "source": [
    "### Read and update `.mm`"
   ]
  },
  {
   "cell_type": "code",
   "execution_count": 6,
   "metadata": {},
   "outputs": [],
   "source": [
    "tree = ET.parse(projectSourceFile)\n",
    "root = tree.getroot()"
   ]
  },
  {
   "cell_type": "code",
   "execution_count": 7,
   "metadata": {},
   "outputs": [],
   "source": [
    "ontologyString = mm2turtle(\n",
    "    root, \n",
    "    baseUri, \n",
    "    verbosity=verbosity,\n",
    "    codeTypeList = codeTypeList )\n",
    "\n",
    "ontologyString = \\\n",
    "\"\"\"@prefix owl: <http://www.w3.org/2002/07/owl#> .\n",
    "@prefix rdf: <http://www.w3.org/1999/02/22-rdf-syntax-ns#> .\n",
    "@prefix xml: <http://www.w3.org/XML/1998/namespace> .\n",
    "@prefix xsd: <http://www.w3.org/2001/XMLSchema#> .\n",
    "@prefix rdfs: <http://www.w3.org/2000/01/rdf-schema#> .\n",
    "@prefix skos: <http://www.w3.org/2004/02/skos/core#> .\n",
    "\"\"\" + ontologyString\n",
    "\n"
   ]
  },
  {
   "cell_type": "markdown",
   "metadata": {},
   "source": [
    "### write files\n",
    "\n",
    "Overwrite (!) the source file:"
   ]
  },
  {
   "cell_type": "code",
   "execution_count": 8,
   "metadata": {},
   "outputs": [],
   "source": [
    "tree.write(projectSourceFile)"
   ]
  },
  {
   "cell_type": "markdown",
   "metadata": {},
   "source": [
    "Export ontology:"
   ]
  },
  {
   "cell_type": "code",
   "execution_count": 9,
   "metadata": {
    "lines_to_next_cell": 0
   },
   "outputs": [],
   "source": [
    "with open(f\"{projectOutDir}/{project}.ttl\", 'w') as out:\n",
    "    out.write(ontologyString)"
   ]
  },
  {
   "cell_type": "markdown",
   "metadata": {},
   "source": [
    "re-read the ttl file we have exported in the preceding step. (We read it two times in order to get two completely distinct graphs)."
   ]
  },
  {
   "cell_type": "code",
   "execution_count": 10,
   "metadata": {},
   "outputs": [
    {
     "name": "stdout",
     "output_type": "stream",
     "text": [
      "93 triples\n"
     ]
    }
   ],
   "source": [
    "g = Graph()\n",
    "g.parse(f\"{projectOutDir}/{project}.ttl\", format='ttl')\n",
    "print(len(g), 'triples')"
   ]
  },
  {
   "cell_type": "code",
   "execution_count": 11,
   "metadata": {},
   "outputs": [
    {
     "name": "stdout",
     "output_type": "stream",
     "text": [
      "428 triples\n"
     ]
    }
   ],
   "source": [
    "g2 = Graph()\n",
    "g2.parse(f\"{projectOutDir}/{project}.ttl\", format='ttl')\n",
    "owlrl.DeductiveClosure(owlrl.OWLRL_Semantics, axiomatic_triples = False).expand(g2)\n",
    "print(len(g2), 'triples')"
   ]
  },
  {
   "cell_type": "code",
   "execution_count": 12,
   "metadata": {},
   "outputs": [],
   "source": [
    "g.serialize(destination  = f\"{projectOutDir}/{project}_rdflib.ttl\", format='turtle')\n",
    "g2.serialize(destination = f\"{projectOutDir}/{project}_rdflib_inferred.ttl\", format='turtle')"
   ]
  },
  {
   "cell_type": "code",
   "execution_count": null,
   "metadata": {},
   "outputs": [],
   "source": []
  },
  {
   "cell_type": "code",
   "execution_count": null,
   "metadata": {},
   "outputs": [],
   "source": []
  }
 ],
 "metadata": {
  "jupytext": {
   "formats": "ipynb,md"
  },
  "kernelspec": {
   "display_name": "Python 3",
   "language": "python",
   "name": "python3"
  },
  "language_info": {
   "codemirror_mode": {
    "name": "ipython",
    "version": 3
   },
   "file_extension": ".py",
   "mimetype": "text/x-python",
   "name": "python",
   "nbconvert_exporter": "python",
   "pygments_lexer": "ipython3",
   "version": "3.8.3"
  }
 },
 "nbformat": 4,
 "nbformat_minor": 4
}
