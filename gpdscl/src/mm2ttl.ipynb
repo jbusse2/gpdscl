{
 "cells": [
  {
   "cell_type": "markdown",
   "metadata": {},
   "source": [
    "# mm2ttl\n",
    "\n",
    "This file *mindmap to turtle (mm2ttl)*: All functions to translate a gpdscl-annotated freeplane mindmap to OWL 2 in turtle format.\n",
    "\n",
    "jupytext: \n",
    "* pair with percent script to get a .py file which can be imported\n",
    "* pair with Myst-Markdown to write docu in an external editor"
   ]
  },
  {
   "cell_type": "code",
   "execution_count": 1,
   "metadata": {},
   "outputs": [],
   "source": [
    "import xml.etree.ElementTree as ET\n",
    "from xml.etree.ElementTree import Element, SubElement\n",
    "from datetime import datetime\n",
    "from xml.sax.saxutils import escape, unescape, quoteattr"
   ]
  },
  {
   "cell_type": "markdown",
   "metadata": {},
   "source": [
    "### basic utility functions"
   ]
  },
  {
   "cell_type": "code",
   "execution_count": 2,
   "metadata": {},
   "outputs": [],
   "source": [
    "def test_button_cancel(node):\n",
    "    return 'button_cancel' in [ icon.attrib['BUILTIN'] for icon in node.findall(\"icon\") ]"
   ]
  },
  {
   "cell_type": "code",
   "execution_count": 3,
   "metadata": {},
   "outputs": [],
   "source": [
    "def makeIri(text, startwith=0):\n",
    "    iri = escape(\"_\".join(text.split()[startwith:]))\n",
    "    if \":\" not in iri:\n",
    "        iri = \":\" + iri\n",
    "    return iri"
   ]
  },
  {
   "cell_type": "code",
   "execution_count": 4,
   "metadata": {},
   "outputs": [],
   "source": [
    "def makeIriFromNode(node, startwith=0):\n",
    "    \n",
    "    if 'TEXT' in node.attrib:\n",
    "        myText = node.attrib['TEXT']\n",
    "    else:\n",
    "        myText = 'ERROR: NO_TEXT_ATTRIBUTE'\n",
    "    \n",
    "    if myText == '_':\n",
    "        myText = node.attrib['ID']\n",
    "        \n",
    "    #myText = node.attrib['TEXT'] if 'TEXT' in node.attrib else \"_\"\n",
    "    #print(f'TEXT={myText}')\n",
    "    #myText = node.attrib['ID'] if myText == '_' else myText\n",
    "    \n",
    "    myTextList = myText.split()\n",
    "    myTag = myTextList[0]\n",
    "    myIri = makeIri(myText, startwith) # escape(\"_\".join(myTextList[startwith:]))\n",
    "    return myTag, myIri"
   ]
  },
  {
   "cell_type": "code",
   "execution_count": 5,
   "metadata": {},
   "outputs": [],
   "source": [
    "def listOfValidChildren(node):\n",
    "    return [n for n in node.findall('node') if not(test_button_cancel(n))]"
   ]
  },
  {
   "cell_type": "code",
   "execution_count": 6,
   "metadata": {},
   "outputs": [],
   "source": [
    "def listOfChildIris(node):\n",
    "    return [ makeIriFromNode(n, 0) for n in listOfValidChildren(node) ]"
   ]
  },
  {
   "cell_type": "code",
   "execution_count": 7,
   "metadata": {},
   "outputs": [],
   "source": [
    "def attachToNode(node, text, highlight):\n",
    "\n",
    "    \"\"\"add a text note to a mindmap node\"\"\"\n",
    "\n",
    "    [ node.remove(n) for n in node.findall('font') ]\n",
    "    node.attrib['BACKGROUND_COLOR'] = \"#ffffff\"\n",
    "    node.attrib['STYLE'] = \"fork\"\n",
    "    \n",
    "    if highlight == 'predicate':\n",
    "        ET.SubElement(node, 'font', {'ITALIC': 'true'})\n",
    "        \n",
    "    elif highlight == 'class':\n",
    "        ET.SubElement(node, 'font', {'BOLD': 'true'})\n",
    "        # node.attrib['STYLE'] = 'bubble'\n",
    "        \n",
    "    elif highlight == 'example':\n",
    "        node.attrib['STYLE'] = \"fork\"\n",
    "        # node.attrib['COLOR'] = \"#666666\"\n",
    "        \n",
    "    elif highlight == 'text':\n",
    "        node.attrib['COLOR'] = \"#666666\"\n",
    "        \n",
    "    elif highlight == 'WARNING':\n",
    "        node.attrib['BACKGROUND_COLOR'] = \"#ff0000\"\n",
    "        node.attrib['COLOR'] = \"#000000\"\n",
    "    \n",
    "    if node.find('richcontent') != None:\n",
    "        for r in node.findall('richcontent'):\n",
    "            node.remove(r)  \n",
    "    \n",
    "    richcontent = ET.SubElement(node, 'richcontent', attrib = {'TYPE': 'NOTE'})\n",
    "    html = ET.SubElement(richcontent, 'html')\n",
    "    body = ET.SubElement(html, 'body')\n",
    "    pre = ET.SubElement(body, 'pre')\n",
    "    pre.text = text\n"
   ]
  },
  {
   "cell_type": "code",
   "execution_count": 8,
   "metadata": {},
   "outputs": [],
   "source": [
    "def verbose(node, text, verboseLevel):\n",
    "\n",
    "    \"\"\"print mindmap node ID and ISO version of timestamp\"\"\"\n",
    "    \n",
    "    verbosity = 2 # TBD: use class attribute etc.\n",
    "    ts = int(node.attrib['MODIFIED']) // 1000 \n",
    "    tsIso = datetime.utcfromtimestamp(ts).strftime('%Y-%m-%d %H:%M:%S')\n",
    "    nodeId = node.attrib['ID']\n",
    "    return f\"\\n# {text}        {nodeId} {tsIso}\\n\" if verboseLevel <= verbosity else \"\""
   ]
  },
  {
   "cell_type": "code",
   "execution_count": null,
   "metadata": {},
   "outputs": [],
   "source": [
    "def WARNING(node, elementType, *, gp, dsa, dt):\n",
    "    # WARNING: \n",
    "    \n",
    "    owlCode =  f\"# T-box warning: unknown {elementType}: {node.get('TEXT')}\"\n",
    "    attachToNode(node, owlCode, 'WARNING')\n",
    "\n",
    "    for n in listOfValidChildren(node):        \n",
    "        searchForOntology(n)"
   ]
  },
  {
   "cell_type": "code",
   "execution_count": null,
   "metadata": {},
   "outputs": [],
   "source": [
    "def WARNING2(node, elementType, *, gp, dsa, dt):\n",
    "    # WARNING: \n",
    "    \n",
    "    owlCode =  f\"# A-Box warning 2: unknown {elementType}: {node.get('TEXT')}\"\n",
    "    attachToNode(node, owlCode, 'WARNING')\n",
    "\n",
    "    for n in listOfValidChildren(node):        \n",
    "        searchForOntology(n)"
   ]
  },
  {
   "cell_type": "code",
   "execution_count": null,
   "metadata": {},
   "outputs": [],
   "source": [
    "def ERROR(node, text):\n",
    "    print(makeIriFromNode, text)"
   ]
  },
  {
   "cell_type": "markdown",
   "metadata": {},
   "source": [
    "### depth first tree traversal"
   ]
  },
  {
   "cell_type": "code",
   "execution_count": null,
   "metadata": {},
   "outputs": [],
   "source": [
    "def searchForOntology(node):\n",
    "\n",
    "    \"\"\"walk mindmap, search for nodes with tag 'ONTOLOGY' \"\"\"\n",
    "    if test_button_cancel(node): return\n",
    "\n",
    "    myTag, myIri = makeIriFromNode(node, 1)\n",
    "    \n",
    "    if myTag == 'ONTOLOGY':\n",
    "        ONTOLOGY(node, 'predicate', gp=None, dsa=None, dt=None)\n",
    "    \n",
    "    else:\n",
    "        for n in node.findall(\"node\"):\n",
    "            searchForOntology(n)"
   ]
  },
  {
   "cell_type": "code",
   "execution_count": null,
   "metadata": {},
   "outputs": [],
   "source": [
    "def walkPredicates(node, *, gp, dsa, dt):\n",
    "    \"\"\"walk mindmap, expect predicates\"\"\"\n",
    "    for n in listOfValidChildren(node):\n",
    "        myTag, myIri = makeIriFromNode(n, 1)\n",
    "        template = predicateTemplates.get(myTag, WARNING)\n",
    "        template(n, 'predicate', gp=gp, dsa=dsa, dt=dt)"
   ]
  },
  {
   "cell_type": "code",
   "execution_count": null,
   "metadata": {},
   "outputs": [],
   "source": [
    "def walkPredicateInstances(node, *, s, p, o):\n",
    "    for n in listOfValidChildren(node):\n",
    "        myTag, myIri = makeIriFromNode(n, 1)\n",
    "        template = predicateInstanceTemplates.get(myTag, WARNING2)\n",
    "        template(n, 'predicate', s=s, p=p, o=o)"
   ]
  },
  {
   "cell_type": "markdown",
   "metadata": {},
   "source": [
    "### T-Box templates"
   ]
  },
  {
   "cell_type": "code",
   "execution_count": null,
   "metadata": {},
   "outputs": [],
   "source": [
    "def ONTOLOGY(node, elementType, *, gp, dsa, dt):\n",
    "    if test_button_cancel(node): return\n",
    "\n",
    "    # ONTOLOGY source (predicate, new dsa)  # we are called here\n",
    "    #   milk (object)                       # and will also process these nodes\n",
    "    #     BY has_Source (predicate)         # we will call this level next \n",
    "    \n",
    "    myTag, myIri = makeIriFromNode(node, 1)\n",
    "\n",
    "    owlCode = verbose(node, \"ONTOLOGY, predicate\", 2)\n",
    "    owlCode += f\"\"\"\\n@prefix : <http://jbusse.de/ontology/mm2owl#> .\"\"\"\n",
    "    attachToNode(node, owlCode, 'predicate')\n",
    "        \n",
    "    for n in listOfValidChildren(node):\n",
    "        \n",
    "        _, myIri = makeIriFromNode(n, 0)\n",
    "        \n",
    "        owlCode = verbose(n, \"ONTOLOGY, object\", 2)\n",
    "        owlCode += f\"\"\"\\n{myIri} a owl:Class.\"\"\"\n",
    "        attachToNode(n, owlCode, 'class')\n",
    "        \n",
    "        walkPredicates(n, gp='OntologyTopConcept', dsa='OntologyTopProperty', dt=myIri)"
   ]
  },
  {
   "cell_type": "code",
   "execution_count": null,
   "metadata": {},
   "outputs": [],
   "source": [
    "def BY(node, elementType, *, gp, dsa, dt):\n",
    "\n",
    "    #    liquid (object, gp)\n",
    "    #      ... (predicate, former dsa)\n",
    "    #        milk (object, dt)\n",
    "    #          BY source (predicate, new dsa)  # we are called here\n",
    "    #            cow milk (object)             # and will also process these nodes\n",
    "    #              SOME cow (predicate)        # we will call this level next \n",
    "\n",
    "    myTag, myIri = makeIriFromNode(node, 1)\n",
    "    dsa = myIri if len(myIri) >0 else ':myTopObjectProperty'  # set dsa to new differentia specifica attribute\n",
    "\n",
    "    owlCode = verbose(node, \"BY, predicate\", 2)\n",
    "    owlCode += f\"\"\"\\n{dsa} a owl:ObjectProperty .\"\"\"\n",
    "    attachToNode(node, owlCode, 'predicate')\n",
    "\n",
    "    for n in listOfValidChildren(node):        \n",
    "        _, myIri = makeIriFromNode(n, 0)\n",
    "            \n",
    "        owlCode = verbose(n, \"BY, object\", 2)\n",
    "        owlCode += f\"\"\"\\n{myIri} a owl:Class ;\n",
    "            rdfs:subClassOf {dt} .\"\"\"\n",
    "            \n",
    "        attachToNode(n, owlCode, 'class')\n",
    "        walkPredicates(n, gp=dt, dsa=dsa, dt=myIri)  # parameter shift here\n"
   ]
  },
  {
   "cell_type": "code",
   "execution_count": null,
   "metadata": {},
   "outputs": [],
   "source": [
    "def ISA(node, elementType, *, gp, dsa, dt):\n",
    "\n",
    "    #    liquid (object, gp)\n",
    "    #      ... (predicate, former dsa)\n",
    "    #        milk (object, dt)\n",
    "    #          ISA                             # we are called here\n",
    "    #            cow milk (object)\n",
    "    \n",
    "    # myTag, myIri = makeIriFromNode(node, 1)\n",
    "    # dsa = myIri if len(myIri) >0 else ':myTopObjectProperty'  # set dsa to new differentia specifica attribute\n",
    "\n",
    "    owlCode = verbose(node, \"ISA, predicate: nothing to do here\", 2)\n",
    "    attachToNode(node, owlCode, 'predicate')\n",
    "\n",
    "    for n in listOfValidChildren(node):        \n",
    "        _, myIri = makeIriFromNode(n, 0)\n",
    "            \n",
    "        owlCode = verbose(n, \"ISA, object\", 2)\n",
    "        owlCode += f\"\"\"\\n{myIri} a owl:Class ;\n",
    "            rdfs:subClassOf {dt} .\"\"\"\n",
    "            \n",
    "        attachToNode(n, owlCode, 'class')\n",
    "        walkPredicates(n, gp=dt, dsa=dsa, dt=myIri)  # parameter shift here\n"
   ]
  },
  {
   "cell_type": "code",
   "execution_count": null,
   "metadata": {},
   "outputs": [],
   "source": [
    "def SOME(node, elementType, *, gp, dsa, dt):\n",
    "  \n",
    "    #    liquid (object, gp)\n",
    "    #      BY has_Source (predicate, dsa)\n",
    "    #        cow milk (object, dt)\n",
    "    #          SOME cow  (predicate, dsv)  # we are called here\n",
    "       \n",
    "    myTag, myIri = makeIriFromNode(node, 1)\n",
    "    dsv = myIri  # differentia specifica value\n",
    "    \n",
    "    someClass = f\":SOME_{dsa}_{dsv}\"  \n",
    "    # someClass = ':SOME_' + node.get('ID')\n",
    "    \n",
    "    andClass  = f\"{gp}_AND_{someClass}\"\n",
    "\n",
    "    owlCode = verbose(node, \"SOME, predicate\", 2)\n",
    "    owlCode += f\"\"\"\\n{someClass} a owl:Class ;\n",
    "        owl:equivalentClass [ a owl:Restriction ;\n",
    "            owl:onProperty {dsa} ;\n",
    "            owl:someValuesFrom {dsv} ] .\n",
    "\n",
    "    {andClass} a owl:Class ;\n",
    "        rdfs:subClassOf {dt} ;\n",
    "        owl:equivalentClass [ a owl:Class ;\n",
    "            owl:intersectionOf ( {gp} {someClass} ) ] .\n",
    "\n",
    "    # owl 2 punning\n",
    "    {dsv} a owl:Class ;\n",
    "        rdfs:subClassOf {dsa} .\n",
    "        \n",
    "    {dsv} rdf:type owl:NamedIndividual ;\n",
    "        a {dsv} .\"\"\"\n",
    "        \n",
    "    attachToNode(node, owlCode, 'predicate')       \n",
    "    \n",
    "    for n in listOfValidChildren(node):\n",
    "        \n",
    "        _, myIri = makeIriFromNode(n, 0)\n",
    "        \n",
    "        owlCode = verbose(n, \"SOME, object\", 2)\n",
    "        owlCode += f\"\"\"\\n{myIri} a owl:Class ;\n",
    "            rdfs:subClassOf {dt} .\"\"\"  \n",
    "        attachToNode(n, owlCode,'class')\n",
    "        \n",
    "        walkPredicates(n, gp=dt, dsa=dsa, dt=myIri)  # parameter shift here\n"
   ]
  },
  {
   "cell_type": "code",
   "execution_count": null,
   "metadata": {},
   "outputs": [],
   "source": [
    "def SUP(node, elementType, *, gp, dsa, dt):\n",
    "  \n",
    "    #    milk (gp)\n",
    "    #      BY something\n",
    "    #        bottled cow milk (object, dt) # superclass 1\n",
    "    #          SUP (predicate)     # we are called here\n",
    "    #            cow               # superclass 2\n",
    "    #            bottle            # superclass 3 etc.\n",
    "    \n",
    "    myTag, myIri = makeIriFromNode(node, 1)\n",
    "    dsv = myIri  # differentia specifica value\n",
    "    \n",
    "    SupClass = ':SUP_'+node.get('ID')\n",
    "    superclassIRIs = \" \".join([ makeIriFromNode(n,0)[1] \n",
    "                                     for n in listOfValidChildren(node) ])\n",
    "    owlCode = verbose(node, f\"SUP, predicate, gp=={gp}, dt=={dt}\", 2)        \n",
    "    owlCode += f\"\"\"\\n{SupClass} a owl:Class ;\n",
    "        rdfs:subClassOf {dt} ;\n",
    "        owl:equivalentClass [ a owl:Class ;\n",
    "            owl:intersectionOf \n",
    "                (  {superclassIRIs} ) ] .\"\"\"  # {gp}\n",
    "       \n",
    "    attachToNode(node, owlCode, 'predicate')       \n",
    "    \n",
    "    for n in listOfValidChildren(node):\n",
    "        _, myIri = makeIriFromNode(n, 0)\n",
    "        \n",
    "        owlCode = verbose(n, \"SUP, object\", 2)\n",
    "        owlCode += f\"\"\"\\n{dt} a owl:Class ;\n",
    "            rdfs:subClassOf {myIri} .\"\"\"  \n",
    "        \n",
    "        attachToNode(n, owlCode,'class')\n",
    "        walkPredicates(n, gp=':myTopObject', dsa=':myTopDataProperty', dt=myIri)  # parameter shift here"
   ]
  },
  {
   "cell_type": "code",
   "execution_count": null,
   "metadata": {},
   "outputs": [],
   "source": [
    "def EX(node, elementType, *, gp, dsa, dt):\n",
    "\n",
    "    #        milk (object, dt)\n",
    "    #          EX (predicate, new dsa)  # we are called here\n",
    "    #            ID_123456 (example object)      # and will also process these nodes\n",
    "\n",
    "    owlCode = verbose(node, \"EX, predicate\", 2)\n",
    "    attachToNode(node, owlCode,'predicate')\n",
    "        \n",
    "    for n in listOfValidChildren(node):        \n",
    "        _, myIri = makeIriFromNode(n, 0)\n",
    "\n",
    "        owlCode = verbose(n, \"EX, object\", 2)\n",
    "        owlCode += f\"\"\"\\n{myIri} a {dt} .\"\"\"\n",
    "        \n",
    "        attachToNode(n, owlCode, 'example')  \n",
    "        walkPredicateInstances(n, s=None, p=None, o=myIri)"
   ]
  },
  {
   "cell_type": "code",
   "execution_count": null,
   "metadata": {},
   "outputs": [],
   "source": [
    "def AP(node, elementType, *, gp, dsa, dt):\n",
    "\n",
    "    #        milk (object, dt)\n",
    "    #          AP skos:definition (predicate, new )  # we are called here\n",
    "    #            some text# and will also process these nodes\n",
    "    \n",
    "    \n",
    "    myTag, myIri = makeIriFromNode(node, 1)\n",
    "    ap = myIri if myIri != ':' else 'rdfs:comment' \n",
    "\n",
    "    owlCode = verbose(node, \"AP, predicate\", 2)\n",
    "    owlCode += f\"\"\"\\n{ap} a owl:AnnotationProperty .\"\"\"\n",
    "    attachToNode(node, owlCode, 'predicate')\n",
    "\n",
    "    for n in listOfValidChildren(node):        \n",
    "        \n",
    "        owlCode = verbose(n, \"AP, literal\", 2)\n",
    "        owlCode = f\"\"\"\\n{dt} {ap} {quoteattr(node.attrib['TEXT'])} .\"\"\"\n",
    "        \n",
    "        attachToNode(n, owlCode, 'text')\n",
    "        \n",
    "        # do not walkPredicates(...): We are at a dead end here. \n",
    "        # instead search for ONTOLOGY:\n",
    "        \n",
    "        for n2 in listOfValidChildren(n):        \n",
    "            searchForOntology(n2)\n",
    "        "
   ]
  },
  {
   "cell_type": "code",
   "execution_count": null,
   "metadata": {},
   "outputs": [],
   "source": [
    "predicateTemplates = {\n",
    "  'WARNING': WARNING,\n",
    "  'ONTOLOGY': ONTOLOGY,\n",
    "  'BY': BY, \n",
    "  'SOME': SOME,\n",
    "  'SUP': SUP,\n",
    "  'EX': EX,\n",
    "  'AP': AP,\n",
    "  'ISA': ISA,\n",
    " #'ASI': ASI ... use SUP instead\n",
    " }"
   ]
  },
  {
   "cell_type": "markdown",
   "metadata": {},
   "source": [
    "### A-Box templates"
   ]
  },
  {
   "cell_type": "code",
   "execution_count": null,
   "metadata": {},
   "outputs": [],
   "source": [
    "def DP(node, elementType, *, s, p, o):\n",
    "    \n",
    "    #        milk (o object)\n",
    "    #          DP hat_Fettgehalt   # we are called here\n",
    "    #            1.5               # and will also process these nodes\n",
    "    \n",
    "    myTag, myIri = makeIriFromNode(node, 1)\n",
    "    dp = myIri # TBD set default: if myIri != ':' else 'rdfs:comment' \n",
    "\n",
    "    owlCode = verbose(node, \"DP, predicate\", 2)\n",
    "    owlCode += f\"\"\"\\n{dp} a owl:DatatypeProperty .\"\"\"\n",
    "    attachToNode(node, owlCode, 'predicate')\n",
    "\n",
    "    for n in listOfValidChildren(node):\n",
    "        \n",
    "        owlCode = verbose(n, \"DP, literal\", 2)\n",
    "        owlCode = f\"\"\"\\n{o} {dp} {quoteattr(node.attrib['TEXT'])} .\"\"\"\n",
    "        \n",
    "        attachToNode(n, owlCode, 'text')\n",
    "        \n",
    "        # do not walkPredicates(...): We are at a dead end here. \n",
    "        # instead search for ONTOLOGY:\n",
    "        \n",
    "        for n2 in listOfValidChildren(n):        \n",
    "            searchForOntology(n2)"
   ]
  },
  {
   "cell_type": "code",
   "execution_count": null,
   "metadata": {},
   "outputs": [],
   "source": [
    "def OP(node, elementType, *, s, p, o):\n",
    "    \n",
    "    #        milk_1234 (o object)\n",
    "    #          OP hat_Hersteller   # we are called here\n",
    "    #            Weideglück        # and will also process these nodes\n",
    "    \n",
    "    myTag, myIri = makeIriFromNode(node, 1)\n",
    "    op = myIri # TBD set default: if myIri != ':' else 'skos:narrower' \n",
    "\n",
    "    owlCode = verbose(node, \"OP, predicate\", 2)\n",
    "    owlCode += f\"\"\"\\n{op} a owl:ObjectProperty .\"\"\"\n",
    "    attachToNode(node, owlCode, 'predicate')\n",
    "\n",
    "    for n in listOfValidChildren(node):        \n",
    "        \n",
    "        _, childIri = makeIriFromNode(n, 0)\n",
    "    \n",
    "        owlCode = verbose(n, \"OP, literal\", 2)\n",
    "        owlCode = f\"\"\"\\n{o} {op} {childIri} .\"\"\"\n",
    "        \n",
    "        attachToNode(n, owlCode, 'text')\n",
    "        walkPredicateInstances(n, s=0, p=op, o=childIri)\n"
   ]
  },
  {
   "cell_type": "code",
   "execution_count": null,
   "metadata": {},
   "outputs": [],
   "source": [
    "def XE(node, elementType, *, s, p, o):\n",
    "\n",
    "    #        ID_123456 (example object)\n",
    "    #          XE (predicate, new dsa)  # we are called here\n",
    "    #            milk (object, dt)      # and will also process these nodes\n",
    "    \n",
    "    attachToNode(node, '','predicate')\n",
    "        \n",
    "    for n in listOfValidChildren(node):        \n",
    "        _, myIri = makeIriFromNode(n, 0)\n",
    "        \n",
    "        owlCode = verbose(n, \"XE, object\", 2)\n",
    "        owlCode += f\"\"\"\\n{o} a {myIri} .\"\"\"\n",
    "        \n",
    "        attachToNode(n, owlCode, 'class')  \n",
    "        walkPredicates(n, gp=':myTopObject', dsa=':myTopObjectProperty', dt=':myTopObject')  # parameter shift here"
   ]
  },
  {
   "cell_type": "code",
   "execution_count": null,
   "metadata": {},
   "outputs": [],
   "source": [
    "predicateInstanceTemplates = {\n",
    "    'DP': DP,\n",
    "    'OP': OP,\n",
    "    'XE': XE\n",
    "}"
   ]
  },
  {
   "cell_type": "markdown",
   "metadata": {},
   "source": [
    "### generate serialization"
   ]
  },
  {
   "cell_type": "code",
   "execution_count": null,
   "metadata": {},
   "outputs": [],
   "source": [
    "def collectOwlEntries(owlEntries, node):\n",
    "    if test_button_cancel(node): return\n",
    "    pre = node.find('richcontent[@TYPE=\"NOTE\"]/html/body/pre')\n",
    "    if pre != None:\n",
    "        myId = node.attrib['ID']\n",
    "        owlEntries[myId] = pre.text\n",
    "        print(\"collectOwlEntries:\", pre.text)\n",
    "    for n in node.findall('node'):\n",
    "        collectOwlEntries(owlEntries, n)"
   ]
  },
  {
   "cell_type": "code",
   "execution_count": null,
   "metadata": {},
   "outputs": [],
   "source": [
    "def mm2turtle(node, baseUri, *, verbosity=0):\n",
    "    searchForOntology(node)\n",
    "    owlEntries = {}\n",
    "    collectOwlEntries(owlEntries, node)\n",
    "    joinedCollectedOwlEntries = \"\\n\".join(owlEntries.values())\n",
    "    ontologyString = f\"\"\"@prefix owl: <http://www.w3.org/2002/07/owl#> .\n",
    "@prefix rdf: <http://www.w3.org/1999/02/22-rdf-syntax-ns#> .\n",
    "@prefix xml: <http://www.w3.org/XML/1998/namespace> .\n",
    "@prefix xsd: <http://www.w3.org/2001/XMLSchema#> .\n",
    "@prefix rdfs: <http://www.w3.org/2000/01/rdf-schema#> .\n",
    "@prefix skos: <http://www.w3.org/2004/02/skos/core#> .\n",
    "\n",
    "@prefix : <{baseUri}#> .\n",
    "@base <{baseUri}> .\n",
    "<{baseUri}> rdf:type owl:Ontology .\n",
    "\n",
    "{joinedCollectedOwlEntries}\n",
    "    \"\"\"\n",
    "    print(f\"ontologyString: {ontologyString}\")\n",
    "    return ontologyString\n",
    "#    return owlEntries"
   ]
  },
  {
   "cell_type": "code",
   "execution_count": null,
   "metadata": {
    "lines_to_next_cell": 3
   },
   "outputs": [],
   "source": [
    "\n",
    "\n",
    "\n",
    "#hookNode = root.find('.//node[hook]')\n",
    "#if hookNode:\n",
    "#    hook = hookNode.find('hook')\n",
    "#    hookNode.remove(hook)"
   ]
  }
 ],
 "metadata": {
  "jupytext": {
   "encoding": "# -*- coding: utf-8 -*-",
   "formats": "ipynb,py:percent,md:myst"
  },
  "kernelspec": {
   "display_name": "Python 3",
   "language": "python",
   "name": "python3"
  },
  "language_info": {
   "codemirror_mode": {
    "name": "ipython",
    "version": 3
   },
   "file_extension": ".py",
   "mimetype": "text/x-python",
   "name": "python",
   "nbconvert_exporter": "python",
   "pygments_lexer": "ipython3",
   "version": "3.8.3"
  }
 },
 "nbformat": 4,
 "nbformat_minor": 4
}
